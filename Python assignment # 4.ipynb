{
 "cells": [
  {
   "cell_type": "markdown",
   "id": "7b42dbf0",
   "metadata": {},
   "source": [
    "# Assignment # 4\n",
    "calculater"
   ]
  },
  {
   "cell_type": "code",
   "execution_count": 1,
   "id": "34478bf9",
   "metadata": {},
   "outputs": [
    {
     "name": "stdout",
     "output_type": "stream",
     "text": [
      "first number25\n",
      "second number18\n",
      "do you want to multiply, minus, divide or add? (*,-,/,+)+\n",
      "43\n",
      "Answer\n"
     ]
    }
   ],
   "source": [
    "x = input(\"first number\")\n",
    "y = input(\"second number\")\n",
    "z = input(\"do you want to multiply, minus, divide or add? (*,-,/,+)\")\n",
    "\n",
    "y = int(y)\n",
    "x = int(x)\n",
    "\n",
    "if z == \"+\":\n",
    "    print (x + y)\n",
    "\n",
    "if z == \"/\":\n",
    "    print (x / y)\n",
    "\n",
    "if z == \"*\":\n",
    "    print (x * y)\n",
    "\n",
    "if z == \"-\":\n",
    "    print (x - y)\n",
    "\n",
    "else:\n",
    "    print(\"Answer\")"
   ]
  },
  {
   "cell_type": "code",
   "execution_count": 2,
   "id": "1b512d2c",
   "metadata": {},
   "outputs": [
    {
     "name": "stdout",
     "output_type": "stream",
     "text": [
      "0\n",
      "1\n",
      "2\n",
      "3\n",
      "4\n",
      "5\n",
      "6\n",
      "7\n",
      "8\n",
      "9\n"
     ]
    }
   ],
   "source": [
    "for i in range(10):\n",
    "    print(i)"
   ]
  },
  {
   "cell_type": "code",
   "execution_count": 3,
   "id": "430e08b1",
   "metadata": {},
   "outputs": [
    {
     "name": "stdout",
     "output_type": "stream",
     "text": [
      "{0: 10, 1: 20}\n",
      "{0: 10, 1: 20, 2: 30}\n"
     ]
    }
   ],
   "source": [
    "d = {0:10, 1:20}\n",
    "print(d)\n",
    "d.update({2:30})\n",
    "print(d)"
   ]
  },
  {
   "cell_type": "code",
   "execution_count": 4,
   "id": "a780b240",
   "metadata": {},
   "outputs": [
    {
     "name": "stdout",
     "output_type": "stream",
     "text": [
      "29\n"
     ]
    }
   ],
   "source": [
    "my_dict = {'data1':10,'data2':-5,'data3':24}\n",
    "print(sum(my_dict.values()))"
   ]
  },
  {
   "cell_type": "code",
   "execution_count": 5,
   "id": "91c7d739",
   "metadata": {},
   "outputs": [
    {
     "name": "stdout",
     "output_type": "stream",
     "text": [
      "2 5 1 8 "
     ]
    }
   ],
   "source": [
    "l=[1,2,3,4,5,6,7,8,9,2,5,1,8]\n",
    "l1=[]\n",
    "for i in l:\n",
    "    if i not in l1:\n",
    "        l1.append(i)\n",
    "    else:\n",
    "        print(i,end=' ')"
   ]
  },
  {
   "cell_type": "code",
   "execution_count": 6,
   "id": "1a23028b",
   "metadata": {},
   "outputs": [
    {
     "name": "stdout",
     "output_type": "stream",
     "text": [
      "key is not exists in a dictionary\n",
      "key is already exists in a dictionary\n"
     ]
    }
   ],
   "source": [
    "d = {1, 2, 3, 4, 5, 6}  \n",
    "def is_key_present(x):\n",
    "  if x in d:  \n",
    "      print('key is already exists in a dictionary')  \n",
    "  else:  \n",
    "      print('key is not exists in a dictionary')  \n",
    "is_key_present(8)  \n",
    "is_key_present(5)"
   ]
  },
  {
   "cell_type": "code",
   "execution_count": null,
   "id": "afbd6426",
   "metadata": {},
   "outputs": [],
   "source": []
  }
 ],
 "metadata": {
  "kernelspec": {
   "display_name": "Python 3",
   "language": "python",
   "name": "python3"
  },
  "language_info": {
   "codemirror_mode": {
    "name": "ipython",
    "version": 3
   },
   "file_extension": ".py",
   "mimetype": "text/x-python",
   "name": "python",
   "nbconvert_exporter": "python",
   "pygments_lexer": "ipython3",
   "version": "3.8.8"
  }
 },
 "nbformat": 4,
 "nbformat_minor": 5
}
